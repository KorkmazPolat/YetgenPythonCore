{
 "cells": [
  {
   "attachments": {},
   "cell_type": "markdown",
   "metadata": {},
   "source": [
    "# Problem 1\n",
    "\n",
    "Şimdi beraber kullanıcılardan aldığımız verileri işleyerek, onlara hem çıktı verecek, hem de aldığımız ve hesapladığımız verileri ileride kullanabilmek adına kaydedeceğiz.\n",
    "\n",
    "\n",
    " **Bu bir veri giriş platformu olacak**\n",
    "\n",
    "\n",
    " * kullanıcıya kaç giriş yapacağını soracağız\n",
    "* kullanıcıdan isim-soyisim, yaş, boy, kilo bilgilerini alarak VKİ hesaplayacağız\n",
    "* ardından bunları sınıflara göre kaydedeceğiz bir dosyaya kaydedeceğiz\n",
    "\n",
    "\n",
    "Sınıflar ise şu şekilde: \n",
    "* 18, 5 kg/m.'nin altında olanlar: Zayıf\n",
    "* 18.5 – 24, 9 kg/m. arasında olanlar: Normal kilolu\n",
    "* 25 – 29, 9 kg/m. arasında olanlar: Fazla kilolu\n",
    "* 30 – 39, 9 kg/m. arasında olanlar: Obez\n",
    "* 40 kg/m.'nin üzerinde olanlar: İleri derecede obez (morbid obez), olarak görülür."
   ]
  },
  {
   "cell_type": "code",
   "execution_count": null,
   "metadata": {},
   "outputs": [],
   "source": [
    "num_entries = int(input(\"Kaç giriş yapacaksınız? \"))\n",
    "\n",
    "user_data = {}\n",
    "\n",
    "for i in range(num_entries):\n",
    "    name = input(\"{}. kişinin isim-soyisim: \".format(i+1))\n",
    "    age = int(input(\"{}. kişinin yaş: \".format(i+1)))\n",
    "    height = float(input(\"{}. kişinin boy (m): \".format(i+1)))\n",
    "    weight = float(input(\"{}. kişinin kilo (kg): \".format(i+1)))\n",
    "    \n",
    "    user_data[name] = {\"age\": age, \"height\": height, \"weight\": weight}\n",
    "\n",
    "def calculate_bmi(height, weight):\n",
    "    return weight / height**2\n",
    "\n",
    "\n",
    "for name, data in user_data.items():\n",
    "    bmi = calculate_bmi(data[\"height\"], data[\"weight\"])\n",
    "    data[\"bmi\"] = bmi\n",
    "\n",
    "\n",
    "\n",
    "bmi_categories = {\n",
    "    \"Zayıf\": (0, 18.5),\n",
    "    \"Normal kilolu\": (18.5, 25),\n",
    "    \"Fazla kilolu\": (25, 30),\n",
    "    \"Obez\": (30, 40),\n",
    "    \"İleri derecede obez\": (40, float(\"inf\"))\n",
    "}\n",
    "\n",
    "with open(\"users.txt\", \"w\") as f:\n",
    "    for name, data in user_data.items():\n",
    "        bmi = data[\"bmi\"]\n",
    "        for category, (lower, upper) in bmi_categories.items():\n",
    "            if lower <= bmi < upper:\n",
    "                data[\"category\"] = category\n",
    "                break\n",
    "        f.write(\"{},{},{},{},{}\\n\".format(name, data[\"age\"], data[\"height\"], data[\"weight\"], data[\"category\"]))"
   ]
  },
  {
   "attachments": {},
   "cell_type": "markdown",
   "metadata": {},
   "source": [
    "# Problem 2\n",
    "**YetBar - Smoothie Bank**\n",
    "---\n",
    "YetBar spor salonunun girişinde bulunan, insansız bir sağlıklı içecek otomatıdır. Kullanıcı çeşitli girdiler smoothie içeceğine koyacağı ürünleri belirleyebilir, fiyat hesaplaması yaptırabilir ya da sadece menüyü görüntüleyebilir.\n",
    "\n",
    "**Projenin Amacı:**\n",
    "\n",
    "*   Birbirini etkileyen ve bir kod içerisinde birden fazla defa başvurulacak fonksiyonların oluşturulup, \"fonksiyonel\" proglamlamak.\n",
    "*   Büyük programları yazarken, yazılımcı olarak yapabileceğimiz hatalardan kaçınmak için kontrol yöntemleri geliştirmek.\n",
    "*   Kullanıcı inputlarını ve yaptığımız hesapları, raporlamak/loglamak amacıyla kaydetmek.\n",
    "\n",
    "**Programdan Beklenen Çıktılar**\n",
    "* Program kullanıcıya temelde 2 farklı işlem yapma imkanı sağlar.\n",
    "> 1. Menüyü görüntüleme\n",
    "> 3. Satın alma\n",
    "* Satın alınan her içecek tarih, fiyat bilgisi ile kaydedilmeli ve her zaman ulaşılabilir olmalıdır.\n",
    "\n",
    "\n"
   ]
  },
  {
   "cell_type": "code",
   "execution_count": 7,
   "metadata": {},
   "outputs": [
    {
     "name": "stdout",
     "output_type": "stream",
     "text": [
      "MENÜ:\n",
      "1. Çilek Smoothie - 10 TL\n",
      "2. Muz Smoothie - 8 TL\n",
      "3. Süt - 2 TL\n",
      "4. Su - 1 TL\n",
      "5. Protein Tozu - 5 TL\n",
      "6. Ananas - 4 TL\n",
      "7. Salatalık - 3 TL\n",
      "Geçersiz bir seçim yaptınız. Lütfen tekrar deneyin.\n",
      "Geçersiz bir seçim yaptınız. Lütfen tekrar deneyin.\n",
      "Çilek Smoothie başarıyla sepetinize eklendi.\n",
      "SATIN ALINANLAR:\n",
      "Çilek Smoothie - 10 TL\n",
      "TOPLAM TUTAR: 10 TL\n"
     ]
    }
   ],
   "source": [
    "menu = {\n",
    "    \"1\": {\"name\": \"Çilek Smoothie\", \"price\": 10},\n",
    "    \"2\": {\"name\": \"Muz Smoothie\", \"price\": 8},\n",
    "    \"3\": {\"name\": \"Süt\", \"price\": 2},\n",
    "    \"4\": {\"name\": \"Su\", \"price\": 1},\n",
    "    \"5\": {\"name\": \"Protein Tozu\", \"price\": 5},\n",
    "    \"6\": {\"name\": \"Ananas\", \"price\": 4},\n",
    "    \"7\": {\"name\": \"Salatalık\", \"price\": 3}\n",
    "}\n",
    "\n",
    "purchased_items = []\n",
    "\n",
    "def display_menu():\n",
    "    print(\"MENÜ:\")\n",
    "    for key, value in menu.items():\n",
    "        print(f\"{key}. {value['name']} - {value['price']} TL\")\n",
    "\n",
    "def purchase_item():\n",
    "    while True:\n",
    "        selection = input(\"Lütfen seçiminizi yapın (1-7 arasında bir sayı girin), ya da 'q' girerek çıkın: \")\n",
    "        if selection == 'q':\n",
    "            break\n",
    "        elif selection in menu.keys():\n",
    "            item = menu[selection]\n",
    "            purchased_items.append(item)\n",
    "            print(f\"{item['name']} başarıyla sepetinize eklendi.\")\n",
    "        else:\n",
    "            print(\"Geçersiz bir seçim yaptınız. Lütfen tekrar deneyin.\")\n",
    "            \n",
    "def display_receipt():\n",
    "    print(\"SATIN ALINANLAR:\")\n",
    "    total = 0\n",
    "    for item in purchased_items:\n",
    "        print(f\"{item['name']} - {item['price']} TL\")\n",
    "        total += item['price']\n",
    "    print(\"TOPLAM TUTAR:\", total, \"TL\")\n",
    "\n",
    "display_menu()\n",
    "purchase_item()\n",
    "display_receipt()\n",
    "\n"
   ]
  }
 ],
 "metadata": {
  "kernelspec": {
   "display_name": "Python 3",
   "language": "python",
   "name": "python3"
  },
  "language_info": {
   "codemirror_mode": {
    "name": "ipython",
    "version": 3
   },
   "file_extension": ".py",
   "mimetype": "text/x-python",
   "name": "python",
   "nbconvert_exporter": "python",
   "pygments_lexer": "ipython3",
   "version": "3.10.7"
  },
  "orig_nbformat": 4,
  "vscode": {
   "interpreter": {
    "hash": "5026d2d6e7aaaaba093def813beadff083d8733e4a511af01735cbabd156995d"
   }
  }
 },
 "nbformat": 4,
 "nbformat_minor": 2
}
