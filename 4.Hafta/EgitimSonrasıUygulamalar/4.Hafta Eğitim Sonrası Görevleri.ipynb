{
 "cells": [
  {
   "cell_type": "markdown",
   "metadata": {},
   "source": [
    "# Problem 1\n",
    "`ogrenciler` adında bir sözlük oluşturunuz. Kullanıcıdan döngü yardımıyla 3 öğrenci için veri girmesini isteyerek öğrencilerin sırasıyla okul numarası, isim, soy isim, telefon numarası ve doğum tarihi bilgilerini alınız. Aldığınız öğrenci bilgilerini yine aynı döngü yardımıyla `ogrenciler` adındaki sözlükte saklayınız. Daha sonra öğrenci bilgilerinin bulunduğu sözlük yapısını ekrana bastırınız.\n",
    "\n"
   ]
  },
  {
   "cell_type": "code",
   "execution_count": null,
   "metadata": {},
   "outputs": [],
   "source": []
  },
  {
   "cell_type": "code",
   "execution_count": 5,
   "metadata": {},
   "outputs": [
    {
     "name": "stdout",
     "output_type": "stream",
     "text": [
      "{1: {'Number': '159487', 'Name': 'Polat', 'Surname': 'Kokrmaz', 'Telephone': '123456879', 'Birthday': '18/25/1515'}, 2: {'Number': 'Enis ', 'Name': 'Feyzi', 'Surname': 'Feyzi', 'Telephone': '12345689978', 'Birthday': '12/78/2200'}, 3: {'Number': '789456132', 'Name': 'Ayşe', 'Surname': 'Kara', 'Telephone': '1458712548', 'Birthday': '1/39/699'}}\n"
     ]
    }
   ],
   "source": [
    "students = {}\n",
    "\n",
    "for i in range(3):\n",
    "    num = input(\"Enter student's number: \")\n",
    "    name = input(\"Enter student's name: \")\n",
    "    surname = input(\"Enter student's surname: \")\n",
    "    tel = input(\"Enter student's telephone number: \")\n",
    "    birthday = input(\"Enter birthday date: \")\n",
    "    students[i+1] = {\"Number\": num,'Name': name, 'Surname': surname, 'Telephone': tel,\"Birthday\":birthday}\n",
    "\n",
    "print(students)\n"
   ]
  },
  {
   "cell_type": "markdown",
   "metadata": {},
   "source": [
    "# Problem 2\n",
    "\n",
    "### a - Biraz ısınarak başlayalım!\n",
    "\n",
    "```\n",
    "numbers = [5,10,10,15,15,15,20,20,20,20]\n",
    "```\n",
    "\n",
    "Yukarıda `numbers` adında 10 elemanlı bir liste verilmiştir. Bu listenin her elemanını kontrol eden ve tekrar eden elemanları bir kez olacak şekilde başka bir listeye kopyalayan bir program yazınız. Son olarak oluşturduğunuz listeyi ekrana bastırınız.\n",
    "\n",
    "\n",
    "\n",
    "\n",
    "```\n",
    ">Output\n",
    "[5, 10, 15, 20]\n",
    "```\n"
   ]
  },
  {
   "cell_type": "code",
   "execution_count": 10,
   "metadata": {},
   "outputs": [
    {
     "name": "stdout",
     "output_type": "stream",
     "text": [
      "[5, 10, 15, 20]\n"
     ]
    }
   ],
   "source": [
    "numbers = [5,10,10,15,15,15,20,20,20,20]\n",
    "newlist = []\n",
    "final_list = []\n",
    "\n",
    "for i in range(len(numbers)):\n",
    "    counter = 0\n",
    "    operator = numbers[i]\n",
    "    for x in range(len(numbers)):\n",
    "        if numbers[x] == operator:\n",
    "            counter += 1\n",
    "            newlist.append(operator)\n",
    "\n",
    "for i in set(newlist):\n",
    "    final_list.append(i)\n",
    "\n",
    "final_list.sort()\n",
    "print(final_list)\n",
    "\n",
    "\n"
   ]
  },
  {
   "cell_type": "markdown",
   "metadata": {},
   "source": [
    "### 🌶️ b) Hadi işi biraz daha zorlaştıralım! \n",
    "\n",
    "\n",
    "Şimdiyse senden `numbers` isimli listedeki tekrar eden elemanları `repeatNumbers` adındaki listeye; tekrar etmeyen elemanları `uniqueNumbers`adındaki listeye kopyalayan yazmanı ve listeleri ekrana bastırmanı bekliyoruz\n",
    "\n",
    "```\n",
    ">Output\n",
    "Tekrar Eden Elemanlar: [10, 10, 15, 15, 15, 20, 20, 20, 20]\n",
    "Tekrar Etmeyen Elemanlar: [5]\n",
    "```"
   ]
  },
  {
   "cell_type": "code",
   "execution_count": 17,
   "metadata": {},
   "outputs": [
    {
     "name": "stdout",
     "output_type": "stream",
     "text": [
      "Repeated numbers: [10, 15, 20]\n",
      "Non-repeated numbers: [5]\n"
     ]
    }
   ],
   "source": [
    "given_list = [5,10,10,15,15,15,20,20,20,20]\n",
    "\n",
    "repeated_numbers = []\n",
    "non_repeated_numbers = []\n",
    "\n",
    "for number in given_list:\n",
    "    if given_list.count(number) > 1 and number not in repeated_numbers:\n",
    "        repeated_numbers.append(number)\n",
    "    elif given_list.count(number) == 1:\n",
    "        non_repeated_numbers.append(number)\n",
    "\n",
    "print(\"Repeated numbers:\", repeated_numbers)\n",
    "print(\"Non-repeated numbers:\", non_repeated_numbers)\n"
   ]
  },
  {
   "cell_type": "markdown",
   "metadata": {},
   "source": [
    "# Problem 3\n",
    "sn1 = {1,2,3,4,5}\n",
    "\n",
    "sn2 = {4,5,6,7,8}\n",
    "\n",
    " Verilen 2 adet küme için kesişimlerini, farklarını ve birleşimlerini bulunuz. "
   ]
  },
  {
   "cell_type": "code",
   "execution_count": 18,
   "metadata": {},
   "outputs": [
    {
     "name": "stdout",
     "output_type": "stream",
     "text": [
      "Intersection of sn1 and sn2: {4, 5}\n",
      "Difference of sn1 and sn2: {1, 2, 3}\n",
      "Difference of sn2 and sn1: {8, 6, 7}\n",
      "Combination of sn1 and sn2: {1, 2, 3, 4, 5, 6, 7, 8}\n"
     ]
    }
   ],
   "source": [
    "sn1 = {1, 2, 3, 4, 5}\n",
    "sn2 = {4, 5, 6, 7, 8}\n",
    "\n",
    "intersection = sn1.intersection(sn2)\n",
    "difference1 = sn1.difference(sn2)\n",
    "difference2 = sn2.difference(sn1)\n",
    "combination = sn1.union(sn2)\n",
    "\n",
    "print(\"Intersection of sn1 and sn2:\", intersection)\n",
    "print(\"Difference of sn1 and sn2:\", difference1)\n",
    "print(\"Difference of sn2 and sn1:\", difference2)\n",
    "print(\"Combination of sn1 and sn2:\", combination)\n"
   ]
  },
  {
   "cell_type": "markdown",
   "metadata": {},
   "source": [
    "# Problem 4\n",
    "\n",
    "Buradaki işlemlerimizin tamamı stringler içindir. Aşağıda verilecek olan metodlar için kendinizin örnek yaratması gerekmektedir. \n",
    "\n",
    "Örneğin `upper` için `string` değişkeni oluştururken` k = \"BAC\"` şeklinde oluşturmayınız. Bunun yerine k değişkenini `k = \"bac`\" şeklinde oluşturmanız `upper` metodundaki değişimi görebilmeniz için daha iyi olacaktır.\n",
    "\n",
    "Bütün metodlardaki değişimin gözle görülür şekilde değişimi beklenmektedir.\n",
    "\n",
    "\n",
    "1- capitalize(), lower(), upper(), swapcase(), title(), replace()\n",
    "\n",
    "2- endswith(), startswith(), find(), index(), count()\n",
    "\n",
    "3- split(), strip(), join(), islower(), isalpha(), isdigit()\n",
    "\n",
    "\n",
    "Yukarıdaki `string` metodlarındaki değişimleri görebildiğimiz bir program yazınız.\n"
   ]
  },
  {
   "cell_type": "code",
   "execution_count": 19,
   "metadata": {},
   "outputs": [
    {
     "name": "stdout",
     "output_type": "stream",
     "text": [
      "Original String:  This is a Sample String for Demo!\n",
      "Capitalized String:  This is a sample string for demo!\n",
      "Lower String:  this is a sample string for demo!\n",
      "Upper String:  THIS IS A SAMPLE STRING FOR DEMO!\n",
      "Swapcase String:  tHIS IS A sAMPLE sTRING FOR dEMO!\n",
      "Title String:  This Is A Sample String For Demo!\n",
      "Replaced String:  This is a Test String for Demo!\n",
      "Endswith String:  True\n",
      "Startswith String:  True\n",
      "Find String:  10\n",
      "Index String:  17\n",
      "Count String:  3\n",
      "Split String:  ['This', 'is', 'a', 'Sample', 'String', 'for', 'Demo!']\n",
      "Striped String:  This is a Sample String for Demo!\n",
      "Join String:  this is a sample string\n",
      "Is Lower String:  False\n",
      "Is Alpha String:  False\n",
      "Is Digit String:  False\n"
     ]
    }
   ],
   "source": [
    "# Define a sample string\n",
    "sample_string = \"This is a Sample String for Demo!\"\n",
    "\n",
    "# capitalize() method\n",
    "capitalized_string = sample_string.capitalize()\n",
    "\n",
    "# lower() method\n",
    "lower_string = sample_string.lower()\n",
    "\n",
    "# upper() method\n",
    "upper_string = sample_string.upper()\n",
    "\n",
    "# swapcase() method\n",
    "swapcase_string = sample_string.swapcase()\n",
    "\n",
    "# title() method\n",
    "title_string = sample_string.title()\n",
    "\n",
    "# replace() method\n",
    "replaced_string = sample_string.replace(\"Sample\", \"Test\")\n",
    "\n",
    "# endswith() method\n",
    "endswith_string = sample_string.endswith(\"Demo!\")\n",
    "\n",
    "# startswith() method\n",
    "startswith_string = sample_string.startswith(\"This\")\n",
    "\n",
    "# find() method\n",
    "find_string = sample_string.find(\"Sample\")\n",
    "\n",
    "# index() method\n",
    "index_string = sample_string.index(\"String\")\n",
    "\n",
    "# count() method\n",
    "count_string = sample_string.count(\"i\")\n",
    "\n",
    "# split() method\n",
    "split_string = sample_string.split(\" \")\n",
    "\n",
    "# strip() method\n",
    "strip_string = \"   \" + sample_string + \"   \"\n",
    "striped_string = strip_string.strip()\n",
    "\n",
    "# join() method\n",
    "join_list = [\"this\", \"is\", \"a\", \"sample\", \"string\"]\n",
    "join_string = \" \".join(join_list)\n",
    "\n",
    "# islower() method\n",
    "islower_string = sample_string.islower()\n",
    "\n",
    "# isalpha() method\n",
    "isalpha_string = sample_string.isalpha()\n",
    "\n",
    "# isdigit() method\n",
    "isdigit_string = sample_string.isdigit()\n",
    "\n",
    "\n",
    "# Print out the results\n",
    "print(\"Original String: \", sample_string)\n",
    "print(\"Capitalized String: \", capitalized_string)\n",
    "print(\"Lower String: \", lower_string)\n",
    "print(\"Upper String: \", upper_string)\n",
    "print(\"Swapcase String: \", swapcase_string)\n",
    "print(\"Title String: \", title_string)\n",
    "print(\"Replaced String: \", replaced_string)\n",
    "print(\"Endswith String: \", endswith_string)\n",
    "print(\"Startswith String: \", startswith_string)\n",
    "print(\"Find String: \", find_string)\n",
    "print(\"Index String: \", index_string)\n",
    "print(\"Count String: \", count_string)\n",
    "print(\"Split String: \", split_string)\n",
    "print(\"Striped String: \", striped_string)\n",
    "print(\"Join String: \", join_string)\n",
    "print(\"Is Lower String: \", islower_string)\n",
    "print(\"Is Alpha String: \", isalpha_string)\n",
    "print(\"Is Digit String: \", isdigit_string)\n"
   ]
  }
 ],
 "metadata": {
  "kernelspec": {
   "display_name": "Python 3.10.5 64-bit",
   "language": "python",
   "name": "python3"
  },
  "language_info": {
   "codemirror_mode": {
    "name": "ipython",
    "version": 3
   },
   "file_extension": ".py",
   "mimetype": "text/x-python",
   "name": "python",
   "nbconvert_exporter": "python",
   "pygments_lexer": "ipython3",
   "version": "3.10.7"
  },
  "orig_nbformat": 4,
  "vscode": {
   "interpreter": {
    "hash": "5026d2d6e7aaaaba093def813beadff083d8733e4a511af01735cbabd156995d"
   }
  }
 },
 "nbformat": 4,
 "nbformat_minor": 2
}
