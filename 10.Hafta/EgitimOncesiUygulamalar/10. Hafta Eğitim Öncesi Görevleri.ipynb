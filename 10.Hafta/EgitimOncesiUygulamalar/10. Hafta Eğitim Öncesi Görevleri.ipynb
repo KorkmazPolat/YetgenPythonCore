{
 "cells": [
  {
   "attachments": {},
   "cell_type": "markdown",
   "metadata": {},
   "source": [
    "# Problem 1"
   ]
  },
  {
   "cell_type": "code",
   "execution_count": 2,
   "metadata": {},
   "outputs": [
    {
     "name": "stdout",
     "output_type": "stream",
     "text": [
      "(5,)\n",
      "2\n"
     ]
    }
   ],
   "source": [
    "# 1 - numpy kütüphanesini import edin\n",
    "import numpy as np\n",
    "\n",
    "# 2 - 0 ile 10 arasında 5 sayıdan oluşan matris üretin\n",
    "matris = np.random.randint(0,10, size = 5)\n",
    "\n",
    "# 3 - matris'in boyutunu öğrenin\n",
    "print(matris.shape)\n",
    "\n",
    "# 4 - matris'i yeniden boyutlandırın\n",
    "new_matris = matris.reshape(5,1)\n",
    "\n",
    "# 5 - matris'in boyut sayısını öğrenin\n",
    "print(new_matris.ndim)\n"
   ]
  },
  {
   "cell_type": "markdown",
   "metadata": {},
   "source": []
  },
  {
   "attachments": {},
   "cell_type": "markdown",
   "metadata": {},
   "source": [
    "# Problem 2"
   ]
  },
  {
   "cell_type": "code",
   "execution_count": 3,
   "metadata": {},
   "outputs": [
    {
     "data": {
      "text/plain": [
       "array([1, 3, 5, 7, 9])"
      ]
     },
     "execution_count": 3,
     "metadata": {},
     "output_type": "execute_result"
    }
   ],
   "source": [
    "# 1 - 0 ile 10 arasında bulunan tek sayılardan oluşan matris üretin\n",
    "matris = np.arange(1, 11, 2)\n",
    "\n",
    "# 2 - Oluşturduğunuz matrisi parçalayın\n",
    "Parçalanmış = np.split(matris, [2,4])\n",
    "\n",
    "# 3 - Parçalanmış matrisleri birleştirin\n",
    "np.concatenate(Parçalanmış)\n"
   ]
  },
  {
   "attachments": {},
   "cell_type": "markdown",
   "metadata": {},
   "source": [
    "# Problem 3"
   ]
  },
  {
   "cell_type": "code",
   "execution_count": 4,
   "metadata": {},
   "outputs": [
    {
     "ename": "TypeError",
     "evalue": "_linspace_dispatcher() got an unexpected keyword argument 'step'",
     "output_type": "error",
     "traceback": [
      "\u001b[1;31m---------------------------------------------------------------------------\u001b[0m",
      "\u001b[1;31mTypeError\u001b[0m                                 Traceback (most recent call last)",
      "\u001b[1;32mc:\\Users\\polat\\OneDrive\\Belgeler\\GitHub\\YetgenPythonCore\\10.Hafta\\EgitimOncesiUygulamalar\\10. Hafta Eğitim Öncesi Görevleri.ipynb Cell 7\u001b[0m in \u001b[0;36m2\n\u001b[0;32m      <a href='vscode-notebook-cell:/c%3A/Users/polat/OneDrive/Belgeler/GitHub/YetgenPythonCore/10.Hafta/EgitimOncesiUygulamalar/10.%20Hafta%20E%C4%9Fitim%20%C3%96ncesi%20G%C3%B6revleri.ipynb#W5sZmlsZQ%3D%3D?line=0'>1</a>\u001b[0m \u001b[39m# 1 - 5 ile 100 arasında ikişer ikişer atlayarak rastgele 10 sayıdan oluşan matris üretin\u001b[39;00m\n\u001b[1;32m----> <a href='vscode-notebook-cell:/c%3A/Users/polat/OneDrive/Belgeler/GitHub/YetgenPythonCore/10.Hafta/EgitimOncesiUygulamalar/10.%20Hafta%20E%C4%9Fitim%20%C3%96ncesi%20G%C3%B6revleri.ipynb#W5sZmlsZQ%3D%3D?line=1'>2</a>\u001b[0m matris \u001b[39m=\u001b[39m np\u001b[39m.\u001b[39;49mlinspace(\u001b[39m5\u001b[39;49m, \u001b[39m100\u001b[39;49m, \u001b[39m10\u001b[39;49m, dtype\u001b[39m=\u001b[39;49m\u001b[39mint\u001b[39;49m, step\u001b[39m=\u001b[39;49m\u001b[39m2\u001b[39;49m)\n\u001b[0;32m      <a href='vscode-notebook-cell:/c%3A/Users/polat/OneDrive/Belgeler/GitHub/YetgenPythonCore/10.Hafta/EgitimOncesiUygulamalar/10.%20Hafta%20E%C4%9Fitim%20%C3%96ncesi%20G%C3%B6revleri.ipynb#W5sZmlsZQ%3D%3D?line=2'>3</a>\u001b[0m \u001b[39m# 2 - matris'in özelliklerini inceleyin\u001b[39;00m\n",
      "File \u001b[1;32m<__array_function__ internals>:179\u001b[0m, in \u001b[0;36mlinspace\u001b[1;34m(*args, **kwargs)\u001b[0m\n",
      "\u001b[1;31mTypeError\u001b[0m: _linspace_dispatcher() got an unexpected keyword argument 'step'"
     ]
    }
   ],
   "source": []
  }
 ],
 "metadata": {
  "kernelspec": {
   "display_name": "Python 3",
   "language": "python",
   "name": "python3"
  },
  "language_info": {
   "codemirror_mode": {
    "name": "ipython",
    "version": 3
   },
   "file_extension": ".py",
   "mimetype": "text/x-python",
   "name": "python",
   "nbconvert_exporter": "python",
   "pygments_lexer": "ipython3",
   "version": "3.10.7"
  },
  "orig_nbformat": 4,
  "vscode": {
   "interpreter": {
    "hash": "5026d2d6e7aaaaba093def813beadff083d8733e4a511af01735cbabd156995d"
   }
  }
 },
 "nbformat": 4,
 "nbformat_minor": 2
}
