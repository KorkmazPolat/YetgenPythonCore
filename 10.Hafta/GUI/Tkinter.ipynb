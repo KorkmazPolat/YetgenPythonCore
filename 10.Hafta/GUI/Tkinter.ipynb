{
 "cells": [
  {
   "cell_type": "code",
   "execution_count": 1,
   "metadata": {},
   "outputs": [],
   "source": [
    "from tkinter import *\n"
   ]
  },
  {
   "cell_type": "code",
   "execution_count": 6,
   "metadata": {},
   "outputs": [],
   "source": [
    "window = Tk()\n",
    "window.title(\"Mortgage\")\n",
    "window.mainloop()"
   ]
  },
  {
   "cell_type": "code",
   "execution_count": 8,
   "metadata": {},
   "outputs": [],
   "source": [
    "window = Tk()\n",
    "window.title(\"Button\")\n",
    "\n",
    "btnCalculate = Button(window,text=\"Calculate\",bg=\"light blue\")\n",
    "btnCalculate.grid(padx=75,pady=15)\n",
    "window.mainloop()"
   ]
  },
  {
   "cell_type": "code",
   "execution_count": 9,
   "metadata": {},
   "outputs": [],
   "source": [
    "window = Tk()\n",
    "window.title(\"Label\")\n",
    "\n",
    "lblPrincipal = Label(window, text=\"Principal:\")\n",
    "lblPrincipal.grid(padx=100, pady=15)\n",
    "window.mainloop()"
   ]
  },
  {
   "cell_type": "code",
   "execution_count": 10,
   "metadata": {},
   "outputs": [],
   "source": [
    "window=Tk()\n",
    "window.title(\"Entry Widget\")\n",
    "entName = Entry(window, width=20)\n",
    "entName.grid(padx=100,pady=15)\n",
    "window.mainloop()\n"
   ]
  },
  {
   "cell_type": "code",
   "execution_count": 11,
   "metadata": {},
   "outputs": [],
   "source": [
    "def changeColor(event):\n",
    "    if entName[\"fg\"] == \"blue\":\n",
    "        entName[\"fg\"] = \"red\"\n",
    "    else:\n",
    "        entName[\"fg\"] = \"blue\"\n",
    "\n",
    "window = Tk()\n",
    "window.title(\"Entry Widget\")\n",
    "entName = Entry(window, fg=\"blue\")\n",
    "entName.grid(padx = 100, pady = 15)\n",
    "entName.bind(\"<Button-3>\", changeColor)\n",
    "window.mainloop()"
   ]
  },
  {
   "cell_type": "code",
   "execution_count": 12,
   "metadata": {},
   "outputs": [],
   "source": [
    "def convertToUpperCase(event):\n",
    "    conOFentName.set(conOFentName.get().upper())\n",
    "\n",
    "window = Tk()\n",
    "window.title(\"Entry Widget\")\n",
    "\n",
    "conOFentName = StringVar()\n",
    "entName = Entry(window,textvariable=conOFentName)\n",
    "entName.grid(padx=100,pady=15)\n",
    "entName.bind(\"<Button-3>\",convertToUpperCase)\n",
    "window.mainloop()"
   ]
  },
  {
   "cell_type": "code",
   "execution_count": 16,
   "metadata": {},
   "outputs": [],
   "source": [
    "window = Tk()\n",
    "window.title(\"ReadOnly Entry Widget\")\n",
    "conOFentOutput = StringVar()\n",
    "entOutput = Entry(window, state=\"readonly\",textvariable=conOFentOutput)\n",
    "entOutput.grid(padx=100,pady=15)\n",
    "conOFentOutput.set(\"Hello World!!\")\n",
    "window.mainloop()"
   ]
  },
  {
   "cell_type": "code",
   "execution_count": 17,
   "metadata": {},
   "outputs": [],
   "source": [
    "window = Tk()\n",
    "window.title(\"Colors\")\n",
    "L = [\"red\", \"yellow\", \"light blue\", \"orange\"]\n",
    "conOFlstColors = StringVar() # contents of the list box\n",
    "lstColors = Listbox(window, width=10, height=5,\n",
    "                        listvariable=conOFlstColors)\n",
    "\n",
    "lstColors.grid(padx=100, pady=15)\n",
    "conOFlstColors.set(tuple(L))\n",
    "window.mainloop()\n"
   ]
  },
  {
   "cell_type": "code",
   "execution_count": 18,
   "metadata": {},
   "outputs": [],
   "source": [
    "def changeBackgroundColor(event):\n",
    "    lstColors[\"bg\"] = lstColors.get(lstColors.curselection())\n",
    "\n",
    "window = Tk()\n",
    "window.title(\"Colors\")\n",
    "L = [\"red\", \"yellow\", \"light blue\", \"orange\"]\n",
    "conOFlstColors = StringVar()\n",
    "lstColors = Listbox(window, width=10, height=5,\n",
    "                        listvariable=conOFlstColors)\n",
    "lstColors.grid(padx=100, pady=15) \n",
    "conOFlstColors.set(tuple(L))\n",
    "lstColors.bind(\"<<ListboxSelect>>\", changeBackgroundColor)\n",
    "window.mainloop()"
   ]
  },
  {
   "cell_type": "code",
   "execution_count": 19,
   "metadata": {},
   "outputs": [],
   "source": [
    "def sortItems(event):\n",
    " L.sort()\n",
    " conOFlstColors.set(tuple(L))\n",
    "window = Tk()\n",
    "window.title(\"Colors\")\n",
    "L = [\"red\", \"yellow\", \"light blue\", \"orange\"]\n",
    "conOFlstColors = StringVar()\n",
    "lstColors = Listbox(window, width=10, height=5, listvariable=conOFlstColors)\n",
    "lstColors.grid(padx=100, pady=15) \n",
    "conOFlstColors.set(tuple(L))\n",
    "lstColors.bind(\"<Button-3>\", sortItems)\n",
    "window.mainloop()"
   ]
  },
  {
   "cell_type": "code",
   "execution_count": 20,
   "metadata": {},
   "outputs": [],
   "source": [
    "window = Tk()\n",
    "window.title(\"Scrollbar\")\n",
    "yscroll = Scrollbar(window, orient=VERTICAL)\n",
    "yscroll.grid(padx=110, pady=15)\n",
    "window.mainloop()"
   ]
  },
  {
   "attachments": {},
   "cell_type": "markdown",
   "metadata": {},
   "source": [
    "Comments\n",
    "1. The event triggered by <Button- 1> is the left- button equivalent of the right- button \n",
    "event triggered by <Button-3>.\n",
    "2. In Example 6, the horizontal blue bar that extends from the selected item will be elim\u0002inated if the statement lstColors.selection_clear(0, END) is added to the end of \n",
    "the changeBackgroundColor function.\n",
    "3. The Label, Entry, and Listbox widgets each have both a fg (foreground) and bg (background) \n",
    "attribute. However, a ReadOnly Listbox widget ignores the setting of its bg attribute.\n",
    "4. The third and fourth lines in Fig. 8.3(a) can be combined to the single line shown below. \n",
    "If so, the widget will appear in the window, but will not have a name. The name is not \n",
    "needed since in most programs, labels just sit there and do not have any of their prop\u0002erties accessed while the program is executing"
   ]
  },
  {
   "cell_type": "code",
   "execution_count": 21,
   "metadata": {},
   "outputs": [],
   "source": [
    "from tkinter import *\n",
    "window = Tk()\n",
    "btn = Button(window, text=\"Push\\nMe\")\n",
    "btn.grid(padx=75)\n",
    "window.mainloop()"
   ]
  },
  {
   "attachments": {},
   "cell_type": "markdown",
   "metadata": {},
   "source": [
    "## GRİDS"
   ]
  },
  {
   "cell_type": "markdown",
   "metadata": {},
   "source": []
  }
 ],
 "metadata": {
  "kernelspec": {
   "display_name": "Python 3",
   "language": "python",
   "name": "python3"
  },
  "language_info": {
   "codemirror_mode": {
    "name": "ipython",
    "version": 3
   },
   "file_extension": ".py",
   "mimetype": "text/x-python",
   "name": "python",
   "nbconvert_exporter": "python",
   "pygments_lexer": "ipython3",
   "version": "3.10.7"
  },
  "orig_nbformat": 4
 },
 "nbformat": 4,
 "nbformat_minor": 2
}
